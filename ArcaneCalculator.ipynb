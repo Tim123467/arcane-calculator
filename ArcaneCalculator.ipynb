{
  "nbformat": 4,
  "nbformat_minor": 0,
  "metadata": {
    "colab": {
      "provenance": []
    },
    "kernelspec": {
      "name": "python3",
      "display_name": "Python 3"
    },
    "language_info": {
      "name": "python"
    }
  },
  "cells": [
    {
      "cell_type": "code",
      "source": [
        "import numpy as np\n",
        "from scipy.signal import convolve\n",
        "\n",
        "def d(numDice: int, numSides: int) -> dict[int, float]:\n",
        "    dist = np.full((numSides,),1/numSides)\n",
        "    for i in range(numDice-1):\n",
        "        dist = convolve(dist, np.full((numSides,),1/numSides))\n",
        "    return dict(zip(range(numDice, numDice + len(dist)),dist))\n",
        "\n",
        "def prob(numMinutes: int) -> dict[int, float]:\n",
        "    '''probabilities for each number of points'''\n",
        "    prob = d(numMinutes, 26)\n",
        "    return dict(zip(tuple(np.rint(1.1*(14*numMinutes+np.array(list(prob))))),prob.values()))\n",
        "\n",
        "def probge(numMinutes: int, points: int) -> float:\n",
        "    '''probability of getting at least input number of points in at least input minutes'''\n",
        "    p = prob(numMinutes)\n",
        "    return np.sum(np.array([p[i] for i in list(p) if i >= points]))\n",
        "\n",
        "while True:\n",
        "    numMinutes = -1\n",
        "    points = -1\n",
        "\n",
        "    while numMinutes < 0:\n",
        "        try:\n",
        "            numMinutes = input('Enter the number of minutes (or enter 0 to quit): ')\n",
        "            numMinutes = int(numMinutes)\n",
        "\n",
        "            if numMinutes < 0:\n",
        "                print('Invalid number of minutes.')\n",
        "        except ValueError:\n",
        "            print('Invalid number of minutes.')\n",
        "            numMinutes = -1\n",
        "\n",
        "    if numMinutes == 0:\n",
        "        break\n",
        "\n",
        "    while points < 0:\n",
        "        try:\n",
        "            points = input('Enter the number of points: ')\n",
        "            points = int(points)\n",
        "\n",
        "            if points < 0:\n",
        "                print('Invalid number of points.')\n",
        "        except ValueError:\n",
        "            print('Invalid number of points.')\n",
        "            points = -1\n",
        "\n",
        "    print(f'The probability of getting at least {points} points in {numMinutes} minutes (assuming a message is sent every minute) is {probge(numMinutes, points)}.')"
      ],
      "metadata": {
        "id": "vS3L5j38rvcW",
        "colab": {
          "base_uri": "https://localhost:8080/"
        },
        "outputId": "6e197bf4-8a56-4c57-d268-856a9583e89c"
      },
      "execution_count": 4,
      "outputs": [
        {
          "name": "stdout",
          "output_type": "stream",
          "text": [
            "Enter the number of minutes (or enter 0 to quit): 8\n",
            "Enter the number of points: 300\n",
            "The probability of getting at least 300 points in 8 minutes (assuming a message is sent every minute) is 0.00566607203143144.\n",
            "Enter the number of minutes (or enter 0 to quit): 8\n",
            "Enter the number of points: 800\n",
            "The probability of getting at least 800 points in 8 minutes (assuming a message is sent every minute) is 0.0.\n",
            "Enter the number of minutes (or enter 0 to quit): 0\n"
          ]
        }
      ]
    }
  ]
}