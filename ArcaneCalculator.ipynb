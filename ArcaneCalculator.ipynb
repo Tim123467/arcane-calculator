{
  "nbformat": 4,
  "nbformat_minor": 0,
  "metadata": {
    "colab": {
      "provenance": [],
      "gpuType": "T4"
    },
    "kernelspec": {
      "name": "python3",
      "display_name": "Python 3"
    },
    "language_info": {
      "name": "python"
    },
    "accelerator": "GPU"
  },
  "cells": [
    {
      "cell_type": "markdown",
      "source": [
        "Note: all calculations assume the 1.1x boost is activated."
      ],
      "metadata": {
        "id": "Ov8ECsIEfdlp"
      }
    },
    {
      "cell_type": "code",
      "source": [
        "'''probability of getting at least x XP in y minutes (assuming a message is sent every minute)'''\n",
        "import numpy as np\n",
        "from scipy.signal import convolve\n",
        "\n",
        "def probge(numMinutes: int, XP: int) -> float:\n",
        "    '''probability of getting at least input number of XP in at least input minutes'''\n",
        "    dist = np.full((26,),1/26)\n",
        "    for i in range(numMinutes-1):\n",
        "        dist = convolve(dist, np.full((26,),1/26))\n",
        "    p = dict(zip(range(numMinutes, numMinutes + len(dist)),dist))\n",
        "    p = dict(zip(tuple(np.rint(1.1*(14*numMinutes+np.array(list(p))))),p.values()))\n",
        "    return np.sum(np.array([p[i] for i in list(p) if i >= XP]))\n",
        "\n",
        "while True:\n",
        "    numMinutes = -1\n",
        "    XP = -1\n",
        "\n",
        "    while numMinutes < 0:\n",
        "        try:\n",
        "            numMinutes = input('Enter the number of minutes (or enter 0 to quit): ')\n",
        "            numMinutes = int(numMinutes)\n",
        "\n",
        "            if numMinutes < 0:\n",
        "                print('Invalid number of minutes.')\n",
        "        except ValueError:\n",
        "            print('Invalid number of minutes.')\n",
        "            numMinutes = -1\n",
        "\n",
        "    if numMinutes == 0:\n",
        "        break\n",
        "\n",
        "    while XP < 0:\n",
        "        try:\n",
        "            XP = input('Enter the amount of XP: ')\n",
        "            XP = int(XP)\n",
        "\n",
        "            if XP < 0:\n",
        "                print('Invalid amount of XP.')\n",
        "        except ValueError:\n",
        "            print('Invalid amount of XP.')\n",
        "            XP = -1\n",
        "\n",
        "    print(f'The probability of getting at least {XP} XP in {numMinutes} minutes (assuming a message is sent every minute) is {probge(numMinutes, XP)}.')"
      ],
      "metadata": {
        "id": "vS3L5j38rvcW",
        "colab": {
          "base_uri": "https://localhost:8080/"
        },
        "outputId": "b0b38ba8-774b-4b3e-fae2-ca72098d4ee6"
      },
      "execution_count": null,
      "outputs": [
        {
          "name": "stdout",
          "output_type": "stream",
          "text": [
            "Enter the number of minutes (or enter 0 to quit): 8\n",
            "Enter the amount of XP: 300\n",
            "The probability of getting at least 300 XP in 8 minutes (assuming a message is sent every minute) is 0.00566607203143144.\n",
            "Enter the number of minutes (or enter 0 to quit): 8\n",
            "Enter the amount of XP: 800\n",
            "The probability of getting at least 800 XP in 8 minutes (assuming a message is sent every minute) is 0.0.\n",
            "Enter the number of minutes (or enter 0 to quit): 0\n"
          ]
        }
      ]
    },
    {
      "cell_type": "code",
      "source": [
        "'''minimum number of minutes to get x XP'''\n",
        "import numpy as np\n",
        "from scipy.signal import convolve\n",
        "from math import ceil\n",
        "\n",
        "def probge(numMinutes: int, XP: int) -> float:\n",
        "    '''probability of getting at least input number of XP in at least input minutes'''\n",
        "    dist = np.full((26,),1/26)\n",
        "    for i in range(numMinutes-1):\n",
        "        dist = convolve(dist, np.full((26,),1/26))\n",
        "    p = dict(zip(range(numMinutes, numMinutes + len(dist)),dist))\n",
        "    p = dict(zip(tuple(np.rint(1.1*(14*numMinutes+np.array(list(p))))),p.values()))\n",
        "    return np.sum(np.array([p[i] for i in list(p) if i >= XP]))\n",
        "\n",
        "def outputMinutes(XP: int) -> None:\n",
        "    print(f'The minimum number of minutes to gain {XP} XP, assuming average luck, is {ceil(XP/30.25)}.')\n",
        "    minutes95 = 1\n",
        "    minutes99 = 1\n",
        "    minutes999 = 1\n",
        "    prob = probge(1, XP)\n",
        "    while prob < 0.999:\n",
        "        if (prob < 0.95):\n",
        "            minutes95 += 1\n",
        "        if (prob < 0.99):\n",
        "            minutes99 += 1\n",
        "        minutes999 += 1\n",
        "        prob = probge(minutes999, XP)\n",
        "    print(f'The minimum number of minutes to gain {XP} XP, assuming 5% bad luck, is {minutes95}.')\n",
        "    print(f'The minimum number of minutes to gain {XP} XP, assuming 1% bad luck, is {minutes99}.')\n",
        "    print(f'The minimum number of minutes to gain {XP} XP, assuming 0.1% bad luck, is {minutes999}.')\n",
        "\n",
        "print('Each calculation may take a minute or longer to calculate depending on how large the input is. Be patient.')\n",
        "while True:\n",
        "    XP = -1\n",
        "\n",
        "    while XP < 0:\n",
        "        try:\n",
        "            XP = input('Enter the amount of XP to gain (or enter 0 to quit): ')\n",
        "            XP = int(XP)\n",
        "\n",
        "            if XP < 0:\n",
        "                print('Invalid amount of XP.')\n",
        "        except ValueError:\n",
        "            print('Invalid amount of XP.')\n",
        "            XP = -1\n",
        "\n",
        "    if XP == 0:\n",
        "        break\n",
        "\n",
        "    outputMinutes(XP)"
      ],
      "metadata": {
        "colab": {
          "base_uri": "https://localhost:8080/"
        },
        "id": "pVDh4jQjUVTf",
        "outputId": "a765175f-4d49-49ee-9472-74d9b4d27d9a"
      },
      "execution_count": 1,
      "outputs": [
        {
          "name": "stdout",
          "output_type": "stream",
          "text": [
            "Each calculation may take a minute or longer to calculate depending on how large the input is. Be patient.\n",
            "Enter the amount of XP to gain (or enter 0 to quit): 21000\n",
            "The minimum number of minutes to gain 21000 XP, assuming average luck, is 695.\n",
            "The minimum number of minutes to gain 21000 XP, assuming 5% bad luck, is 707.\n",
            "The minimum number of minutes to gain 21000 XP, assuming 1% bad luck, is 712.\n",
            "The minimum number of minutes to gain 21000 XP, assuming 0.1% bad luck, is 717.\n",
            "Enter the amount of XP to gain (or enter 0 to quit): 0\n"
          ]
        }
      ]
    }
  ]
}